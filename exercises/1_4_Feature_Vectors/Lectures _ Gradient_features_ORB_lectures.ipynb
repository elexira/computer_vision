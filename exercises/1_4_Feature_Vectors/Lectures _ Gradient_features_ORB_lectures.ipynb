{
 "cells": [
  {
   "cell_type": "markdown",
   "metadata": {},
   "source": [
    "notice gradient directio is perpendicular to the directio of the edge detected\n",
    "![gradient vector as a feature](./images/snap_gradient.png)"
   ]
  },
  {
   "cell_type": "markdown",
   "metadata": {},
   "source": [
    "# FAST \n",
    "the idea here is we pick a pixel like the central one in the image.\n",
    "then we pick 16 pixels around it that lie on a circle\n",
    "each of these 16 pixels classify into 3 clases:\n",
    "\n",
    "* same intesity as p\n",
    "* brighter than p : p + h \n",
    "* darker than p : p - h\n",
    "if more than 8 of these connected pixels are either brighter or darker than p, p is selected as a key point\n",
    "\n",
    "![Slower version of Fast](./images/snap_fast_3.png)\n",
    "\n",
    "Now fast does this faster ! look at the second image. instead of 16 pixels it only uses 4 pixels, and it calls a pixel key point if 2 of its 4 sorounding pixels (next to each other, if opposit of each other no) are either darker or lighter\n",
    "\n",
    "\n",
    "\n",
    "![FAST: Feature from Accelerated Segments Tests](./images/snap_fast_2.png)"
   ]
  },
  {
   "cell_type": "markdown",
   "metadata": {},
   "source": [
    "# BREIF\n",
    "create binary features for key points from Fast\n",
    "* 1) focus on a key pixel showin in green\n",
    "* 2) randomly with variance sigma pick a pixel around green, it is blue\n",
    "* 3) randomly centered around blue with variance sigma/2, pick a pixel, it is orange\n",
    "* 4) if blue darker than orange, assign 1 else 0 , or the other way around. does not matter\n",
    "* 5) repeat this process 128 times, you will have a 128 bit vector representation of the green key point [0,1,0,..]\n",
    "![Breif assigns a 128-512 bit vector to each key point from fast](./images/snap_breif.png) "
   ]
  },
  {
   "cell_type": "code",
   "execution_count": null,
   "metadata": {},
   "outputs": [],
   "source": []
  }
 ],
 "metadata": {
  "kernelspec": {
   "display_name": "computer_vision_class",
   "language": "python",
   "name": "comp_vis"
  },
  "language_info": {
   "codemirror_mode": {
    "name": "ipython",
    "version": 3
   },
   "file_extension": ".py",
   "mimetype": "text/x-python",
   "name": "python",
   "nbconvert_exporter": "python",
   "pygments_lexer": "ipython3",
   "version": "3.6.9"
  }
 },
 "nbformat": 4,
 "nbformat_minor": 2
}
