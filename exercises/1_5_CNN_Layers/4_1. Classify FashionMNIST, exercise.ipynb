{
 "cells": [
  {
   "cell_type": "markdown",
   "metadata": {},
   "source": [
    "# CNN for Classification\n",
    "---\n",
    "In this notebook, we define **and train** an CNN to classify images from the [Fashion-MNIST database](https://github.com/zalandoresearch/fashion-mnist)."
   ]
  },
  {
   "cell_type": "markdown",
   "metadata": {},
   "source": [
    "### Load the [data](http://pytorch.org/docs/master/torchvision/datasets.html)\n",
    "\n",
    "In this cell, we load in both **training and test** datasets from the FashionMNIST class."
   ]
  },
  {
   "cell_type": "code",
   "execution_count": 1,
   "metadata": {},
   "outputs": [
    {
     "name": "stdout",
     "output_type": "stream",
     "text": [
      "Train data, number of images:  60000\n",
      "Test data, number of images:  10000\n"
     ]
    }
   ],
   "source": [
    "# our basic libraries\n",
    "import torch\n",
    "import torchvision\n",
    "\n",
    "# data loading and transforming\n",
    "from torchvision.datasets import FashionMNIST\n",
    "from torch.utils.data import DataLoader\n",
    "from torchvision import transforms\n",
    "\n",
    "from collections import OrderedDict\n",
    "\n",
    "# The output of torchvision datasets are PILImage images of range [0, 1]. \n",
    "# We transform them to Tensors for input into a CNN\n",
    "\n",
    "## Define a transform to read the data in as a tensor\n",
    "data_transform = transforms.ToTensor()\n",
    "\n",
    "# choose the training and test datasets\n",
    "train_data = FashionMNIST(root='./data', train=True,\n",
    "                                   download=True, transform=data_transform)\n",
    "\n",
    "test_data = FashionMNIST(root='./data', train=False,\n",
    "                                  download=True, transform=data_transform)\n",
    "\n",
    "\n",
    "# Print out some stats about the training and test data\n",
    "print('Train data, number of images: ', len(train_data))\n",
    "print('Test data, number of images: ', len(test_data))"
   ]
  },
  {
   "cell_type": "code",
   "execution_count": 2,
   "metadata": {},
   "outputs": [],
   "source": [
    "# prepare data loaders, set the batch_size\n",
    "## you can try changing the batch_size to be larger or smaller\n",
    "## when you get to training your network, see how batch_size affects the loss\n",
    "batch_size = 10\n",
    "\n",
    "train_loader = DataLoader(train_data, batch_size=batch_size, shuffle=True)\n",
    "test_loader = DataLoader(test_data, batch_size=batch_size, shuffle=True)\n",
    "\n",
    "# specify the image classes\n",
    "classes = ['T-shirt/top', 'Trouser', 'Pullover', 'Dress', 'Coat', \n",
    "           'Sandal', 'Shirt', 'Sneaker', 'Bag', 'Ankle boot']"
   ]
  },
  {
   "cell_type": "markdown",
   "metadata": {},
   "source": [
    "### Visualize some training data\n",
    "\n",
    "This cell iterates over the training dataset, loading a random batch of image/label data, using `dataiter.next()`. It then plots the batch of images and labels in a `2 x batch_size/2` grid."
   ]
  },
  {
   "cell_type": "code",
   "execution_count": 3,
   "metadata": {},
   "outputs": [
    {
     "data": {
      "image/png": "[encoded data removed]",
      "text/plain": [
       "<Figure size 1800x288 with 10 Axes>"
      ]
     },
     "metadata": {},
     "output_type": "display_data"
    }
   ],
   "source": [
    "import numpy as np\n",
    "import matplotlib.pyplot as plt\n",
    "\n",
    "%matplotlib inline\n",
    "    \n",
    "# obtain one batch of training images\n",
    "dataiter = iter(train_loader)\n",
    "images, labels = dataiter.next()\n",
    "images = images.numpy()\n",
    "\n",
    "# plot the images in the batch, along with the corresponding labels\n",
    "fig = plt.figure(figsize=(25, 4))\n",
    "for idx in np.arange(batch_size):\n",
    "    ax = fig.add_subplot(2, batch_size/2, idx+1, xticks=[], yticks=[])\n",
    "    ax.imshow(np.squeeze(images[idx]), cmap='gray')\n",
    "    ax.set_title(classes[labels[idx]])"
   ]
  },
  {
   "cell_type": "markdown",
   "metadata": {},
   "source": [
    "### Define the network architecture\n",
    "\n",
    "The various layers that make up any neural network are documented, [here](http://pytorch.org/docs/master/nn.html). For a convolutional neural network, we'll use a simple series of layers:\n",
    "* Convolutional layers\n",
    "* Maxpooling layers\n",
    "* Fully-connected (linear) layers\n",
    "\n",
    "You are also encouraged to look at adding [dropout layers](http://pytorch.org/docs/stable/nn.html#dropout) to avoid overfitting this data.\n",
    "\n",
    "---\n",
    "\n",
    "To define a neural network in PyTorch, you define the layers of a model in the function `__init__` and define the feedforward behavior of a network that employs those initialized layers in the function `forward`, which takes in an input image tensor, `x`. The structure of this Net class is shown below and left for you to fill in.\n",
    "\n",
    "Note: During training, PyTorch will be able to perform backpropagation by keeping track of the network's feedforward behavior and using autograd to calculate the update to the weights in the network.\n",
    "\n",
    "#### Define the Layers in ` __init__`\n",
    "As a reminder, a conv/pool layer may be defined like this (in `__init__`):\n",
    "```\n",
    "# 1 input image channel (for grayscale images), 32 output channels/feature maps, 3x3 square convolution kernel\n",
    "self.conv1 = nn.Conv2d(1, 32, 3)\n",
    "\n",
    "# maxpool that uses a square window of kernel_size=2, stride=2\n",
    "self.pool = nn.MaxPool2d(2, 2)      \n",
    "```\n",
    "\n",
    "#### Refer to Layers in `forward`\n",
    "Then referred to in the `forward` function like this, in which the conv1 layer has a ReLu activation applied to it before maxpooling is applied:\n",
    "```\n",
    "x = self.pool(F.relu(self.conv1(x)))\n",
    "```\n",
    "\n",
    "You must place any layers with trainable weights, such as convolutional layers, in the `__init__` function and refer to them in the `forward` function; any layers or functions that always behave in the same way, such as a pre-defined activation function, may appear *only* in the `forward` function. In practice, you'll often see conv/pool layers defined in `__init__` and activations defined in `forward`.\n",
    "\n",
    "#### Convolutional layer\n",
    "The first convolution layer has been defined for you, it takes in a 1 channel (grayscale) image and outputs 10 feature maps as output, after convolving the image with 3x3 filters.\n",
    "\n",
    "#### Flattening\n",
    "\n",
    "Recall that to move from the output of a convolutional/pooling layer to a linear layer, you must first flatten your extracted features into a vector. If you've used the deep learning library, Keras, you may have seen this done by `Flatten()`, and in PyTorch you can flatten an input `x` with `x = x.view(x.size(0), -1)`.\n",
    "\n",
    "### Define the rest of the layers\n",
    "\n",
    "It will be up to you to define the other layers in this network; we have some recommendations, but you may change the architecture and parameters as you see fit.\n",
    "\n",
    "Recommendations/tips:\n",
    "* Use at least two convolutional layers\n",
    "* Your output must be a linear layer with 10 outputs (for the 10 classes of clothing)\n",
    "* Use a dropout layer to avoid overfitting"
   ]
  },
  {
   "cell_type": "code",
   "execution_count": 4,
   "metadata": {},
   "outputs": [],
   "source": [
    "import torch.nn as nn\n",
    "import torch.nn.functional as F\n",
    "\n",
    "class Net(nn.Module):\n",
    "\n",
    "    def __init__(self):\n",
    "        super(Net, self).__init__()\n",
    "        self.layer1 = nn.Sequential(\n",
    "            OrderedDict([\n",
    "            ('conv1', nn.Conv2d(1, 5, kernel_size=3)),\n",
    "            ('relu1',nn.ReLU()),\n",
    "            ('bachnorm1', nn.BatchNorm2d(10))]))\n",
    "        \n",
    "        self.layer2 = nn.Sequential(OrderedDict([\n",
    "            ('maxp1', nn.MaxPool2d(2,2))]))\n",
    "        \n",
    "        self.layer3 = nn.Sequential(OrderedDict([\n",
    "            ('conv2', nn.Conv2d(10, 10, kernel_size=3)),\n",
    "            ('relu2', nn.ReLU())]))\n",
    "        \n",
    "        self.layer4 = nn.Sequential(OrderedDict([\n",
    "            ('fc1', nn.Linear(11*11*10,100 )),\n",
    "            ('relu3', nn.ReLU()),\n",
    "            ('dropout4',  nn.Dropout(0.4))]))\n",
    "        \n",
    "        self.layer5 = nn.Sequential(OrderedDict([\n",
    "            ('fc2', nn.Linear(100, 50)),\n",
    "            ('relu4', nn.ReLU()),\n",
    "            ('dropout4',  nn.Dropout(0.4))]))\n",
    "        \n",
    "        self.layer6 = nn.Sequential(OrderedDict([\n",
    "            ('fc3', nn.Linear(50, 10)),\n",
    "            ('relu5', nn.ReLU())]))\n",
    "        \n",
    "        \n",
    "    ## define the feedforward behavior\n",
    "    def forward(self, x):\n",
    "        out = self.layer1(x)\n",
    "        out = self.layer2(out)\n",
    "        out = self.layer3(out)\n",
    "        out = out.view(out.size(0), -1)\n",
    "        out = self.layer4(out)\n",
    "        out = self.layer5(out)\n",
    "        out = self.layer6(out)\n",
    "        # final output\n",
    "        return F.log_softmax(out, dim=1)"
   ]
  },
  {
   "cell_type": "code",
   "execution_count": 9,
   "metadata": {},
   "outputs": [
    {
     "name": "stdout",
     "output_type": "stream",
     "text": [
      "Net(\n",
      "  (layer1): Sequential(\n",
      "    (conv1): Conv2d(1, 10, kernel_size=(3, 3), stride=(1, 1))\n",
      "    (relu1): ReLU()\n",
      "    (bachnorm1): BatchNorm2d(10, eps=1e-05, momentum=0.1, affine=True, track_running_stats=True)\n",
      "  )\n",
      "  (layer2): Sequential(\n",
      "    (maxp1): MaxPool2d(kernel_size=2, stride=2, padding=0, dilation=1, ceil_mode=False)\n",
      "  )\n",
      "  (layer3): Sequential(\n",
      "    (conv2): Conv2d(10, 20, kernel_size=(3, 3), stride=(1, 1))\n",
      "    (relu2): ReLU()\n",
      "  )\n",
      "  (layer4): Sequential(\n",
      "    (fc1): Linear(in_features=2420, out_features=200, bias=True)\n",
      "    (relu3): ReLU()\n",
      "    (dropout4): Dropout(p=0.4, inplace=False)\n",
      "  )\n",
      "  (layer5): Sequential(\n",
      "    (fc2): Linear(in_features=200, out_features=100, bias=True)\n",
      "    (relu4): ReLU()\n",
      "    (dropout5): Dropout(p=0.4, inplace=False)\n",
      "  )\n",
      "  (layer6): Sequential(\n",
      "    (fc3): Linear(in_features=100, out_features=10, bias=True)\n",
      "    (relu5): ReLU()\n",
      "  )\n",
      ")\n"
     ]
    }
   ],
   "source": [
    "import torch.nn as nn\n",
    "import torch.nn.functional as F\n",
    "\n",
    "class Net(nn.Module):\n",
    "\n",
    "    def __init__(self):\n",
    "        super(Net, self).__init__()\n",
    "        self.layer1 = nn.Sequential(\n",
    "            OrderedDict([\n",
    "            ('conv1', nn.Conv2d(1, 10, kernel_size=3)),\n",
    "            ('relu1',nn.ReLU()),\n",
    "            ('bachnorm1', nn.BatchNorm2d(10))]))\n",
    "        \n",
    "        self.layer2 = nn.Sequential(OrderedDict([\n",
    "            ('maxp1', nn.MaxPool2d(2,2))]))\n",
    "        \n",
    "        self.layer3 = nn.Sequential(OrderedDict([\n",
    "            ('conv2', nn.Conv2d(10, 20, kernel_size=3)),\n",
    "            ('relu2', nn.ReLU())]))\n",
    "        \n",
    "        self.layer4 = nn.Sequential(OrderedDict([\n",
    "            ('fc1', nn.Linear(11*11*20,200 )),\n",
    "            ('relu3', nn.ReLU()),\n",
    "            ('dropout4',  nn.Dropout(0.4))]))\n",
    "        \n",
    "        self.layer5 = nn.Sequential(OrderedDict([\n",
    "            ('fc2', nn.Linear(200, 100)),\n",
    "            ('relu4', nn.ReLU()),\n",
    "            ('dropout5',  nn.Dropout(0.4))]))\n",
    "        \n",
    "        self.layer6 = nn.Sequential(OrderedDict([\n",
    "            ('fc3', nn.Linear(100, 10)),\n",
    "            ('relu5', nn.ReLU())]))\n",
    "        \n",
    "        \n",
    "    ## define the feedforward behavior\n",
    "    def forward(self, x):\n",
    "        out = self.layer1(x)\n",
    "        out = self.layer2(out)\n",
    "        out = self.layer3(out)\n",
    "        out = out.view(out.size(0), -1)\n",
    "        out = self.layer4(out)\n",
    "        out = self.layer5(out)\n",
    "        out = self.layer6(out)\n",
    "        # final output\n",
    "        return F.log_softmax(out, dim=1)\n",
    "\n",
    "# instantiate and print your Net\n",
    "net = Net()\n",
    "net = net.cuda()\n",
    "print(net)\n"
   ]
  },
  {
   "cell_type": "markdown",
   "metadata": {},
   "source": [
    "### Specify the loss function and optimizer\n",
    "\n",
    "Learn more about [loss functions](http://pytorch.org/docs/master/nn.html#loss-functions) and [optimizers](http://pytorch.org/docs/master/optim.html) in the online documentation.\n",
    "\n",
    "Note that for a classification problem like this, one typically uses cross entropy loss, which can be defined in code like: `criterion = nn.CrossEntropyLoss()`. PyTorch also includes some standard stochastic optimizers like stochastic gradient descent and Adam. You're encouraged to try different optimizers and see how your model responds to these choices as it trains.\n"
   ]
  },
  {
   "cell_type": "code",
   "execution_count": 10,
   "metadata": {},
   "outputs": [],
   "source": [
    "import torch.optim as optim\n",
    "\n",
    "## specify loss function (try categorical cross-entropy)\n",
    "criterion = nn.NLLLoss()\n",
    "\n",
    "## specify optimizer \n",
    "optimizer = optim.Adam(net.parameters()) "
   ]
  },
  {
   "cell_type": "code",
   "execution_count": 15,
   "metadata": {},
   "outputs": [],
   "source": [
    "device = torch.device('cuda:0')"
   ]
  },
  {
   "cell_type": "markdown",
   "metadata": {},
   "source": [
    "### A note on accuracy\n",
    "\n",
    "It's interesting to look at the accuracy of your network **before and after** training. This way you can really see that your network has learned something. In the next cell, let's see what the accuracy of an untrained network is (we expect it to be around 10% which is the same accuracy as just guessing for all 10 classes)."
   ]
  },
  {
   "cell_type": "code",
   "execution_count": 17,
   "metadata": {},
   "outputs": [
    {
     "name": "stdout",
     "output_type": "stream",
     "text": [
      "Accuracy before training:  9.51\n"
     ]
    }
   ],
   "source": [
    "# Calculate accuracy before training\n",
    "correct = 0\n",
    "total = 0\n",
    "\n",
    "# Iterate through test dataset\n",
    "for images, labels in test_loader:\n",
    "\n",
    "    # forward pass to get outputs\n",
    "    # the outputs are a series of class scores\n",
    "    outputs = net(images.to(device))\n",
    "    \n",
    "    # get the predicted class from the maximum value in the output-list of class scores\n",
    "    _, predicted = torch.max(outputs.data, 1)\n",
    "\n",
    "    # count up total number of correct labels\n",
    "    # for which the predicted and true labels are equal\n",
    "    total += labels.size(0)\n",
    "    correct += (predicted == labels.to(device)).sum()\n",
    "\n",
    "# calculate the accuracy\n",
    "accuracy = 100 * correct.item() / total\n",
    "\n",
    "# print it out!\n",
    "print('Accuracy before training: ', accuracy)"
   ]
  },
  {
   "cell_type": "markdown",
   "metadata": {},
   "source": [
    "### Train the Network\n",
    "\n",
    "Below, we've defined a `train` function that takes in a number of epochs to train for. The number of epochs is how many times a network will cycle through the training dataset. \n",
    "\n",
    "Here are the steps that this training function performs as it iterates over the training dataset:\n",
    "\n",
    "1. Zero's the gradients to prepare for a forward pass\n",
    "2. Passes the input through the network (forward pass)\n",
    "3. Computes the loss (how far is the predicted classes are from the correct labels)\n",
    "4. Propagates gradients back into the network’s parameters (backward pass)\n",
    "5. Updates the weights (parameter update)\n",
    "6. Prints out the calculated loss\n",
    "\n"
   ]
  },
  {
   "cell_type": "code",
   "execution_count": 18,
   "metadata": {},
   "outputs": [],
   "source": [
    "def train(n_epochs):\n",
    "    \n",
    "    for epoch in range(n_epochs):  # loop over the dataset multiple times\n",
    "\n",
    "        running_loss = 0.0\n",
    "        for batch_i, data in enumerate(train_loader):\n",
    "            # get the input images and their corresponding labels\n",
    "            inputs, labels = data       \n",
    "\n",
    "            # zero the parameter (weight) gradients\n",
    "            optimizer.zero_grad()\n",
    "\n",
    "            # forward pass to get outputs\n",
    "            outputs = net(inputs.to(device))\n",
    "\n",
    "            # calculate the loss\n",
    "            loss = criterion(outputs, labels.to(device))\n",
    "\n",
    "            # backward pass to calculate the parameter gradients\n",
    "            loss.backward()\n",
    "\n",
    "            # update the parameters\n",
    "            optimizer.step()\n",
    "\n",
    "            # print loss statistics\n",
    "            # to convert loss into a scalar and add it to running_loss, we use .item()\n",
    "            running_loss += loss.item()\n",
    "            if batch_i % 1000 == 999:    # print every 1000 mini-batches\n",
    "                print('Epoch: {}, Batch: {}, Avg. Loss: {}'.format(epoch + 1, batch_i+1, running_loss/1000))\n",
    "                running_loss = 0.0\n",
    "\n",
    "    print('Finished Training')\n"
   ]
  },
  {
   "cell_type": "code",
   "execution_count": 19,
   "metadata": {
    "scrolled": true
   },
   "outputs": [
    {
     "name": "stdout",
     "output_type": "stream",
     "text": [
      "Epoch: 1, Batch: 1000, Avg. Loss: 0.8587411567345261\n",
      "Epoch: 1, Batch: 2000, Avg. Loss: 0.5370729133314454\n",
      "Epoch: 1, Batch: 3000, Avg. Loss: 0.4647231343416497\n",
      "Epoch: 1, Batch: 4000, Avg. Loss: 0.43678868522681297\n",
      "Epoch: 1, Batch: 5000, Avg. Loss: 0.42037209432665257\n",
      "Epoch: 1, Batch: 6000, Avg. Loss: 0.40543102129618636\n",
      "Epoch: 2, Batch: 1000, Avg. Loss: 0.3543250787320576\n",
      "Epoch: 2, Batch: 2000, Avg. Loss: 0.37615935515717136\n",
      "Epoch: 2, Batch: 3000, Avg. Loss: 0.35725674871643426\n",
      "Epoch: 2, Batch: 4000, Avg. Loss: 0.35263316111511084\n",
      "Epoch: 2, Batch: 5000, Avg. Loss: 0.3383934323135763\n",
      "Epoch: 2, Batch: 6000, Avg. Loss: 0.3640463532432914\n",
      "Epoch: 3, Batch: 1000, Avg. Loss: 0.31289909193315546\n",
      "Epoch: 3, Batch: 2000, Avg. Loss: 0.31219462256744734\n",
      "Epoch: 3, Batch: 3000, Avg. Loss: 0.3287405374912778\n",
      "Epoch: 3, Batch: 4000, Avg. Loss: 0.3270646841771086\n",
      "Epoch: 3, Batch: 5000, Avg. Loss: 0.31608929817914033\n",
      "Epoch: 3, Batch: 6000, Avg. Loss: 0.319953804092831\n",
      "Epoch: 4, Batch: 1000, Avg. Loss: 0.27888324353212374\n",
      "Epoch: 4, Batch: 2000, Avg. Loss: 0.29378919311135543\n",
      "Epoch: 4, Batch: 3000, Avg. Loss: 0.2886706172444392\n",
      "Epoch: 4, Batch: 4000, Avg. Loss: 0.2948009241828231\n",
      "Epoch: 4, Batch: 5000, Avg. Loss: 0.2953519239489106\n",
      "Epoch: 4, Batch: 6000, Avg. Loss: 0.29113749315463067\n",
      "Epoch: 5, Batch: 1000, Avg. Loss: 0.2712757030538632\n",
      "Epoch: 5, Batch: 2000, Avg. Loss: 0.2625352454917738\n",
      "Epoch: 5, Batch: 3000, Avg. Loss: 0.26512520423941166\n",
      "Epoch: 5, Batch: 4000, Avg. Loss: 0.27954461574251765\n",
      "Epoch: 5, Batch: 5000, Avg. Loss: 0.2704083676150949\n",
      "Epoch: 5, Batch: 6000, Avg. Loss: 0.2838656006005476\n",
      "Epoch: 6, Batch: 1000, Avg. Loss: 0.2436032690620923\n",
      "Epoch: 6, Batch: 2000, Avg. Loss: 0.2556758950536023\n",
      "Epoch: 6, Batch: 3000, Avg. Loss: 0.2547658464361011\n",
      "Epoch: 6, Batch: 4000, Avg. Loss: 0.24878616533690365\n",
      "Epoch: 6, Batch: 5000, Avg. Loss: 0.25599210711530757\n",
      "Epoch: 6, Batch: 6000, Avg. Loss: 0.2615144974561408\n",
      "Epoch: 7, Batch: 1000, Avg. Loss: 0.23065621027637098\n",
      "Epoch: 7, Batch: 2000, Avg. Loss: 0.23257004264576245\n",
      "Epoch: 7, Batch: 3000, Avg. Loss: 0.23786956805693626\n",
      "Epoch: 7, Batch: 4000, Avg. Loss: 0.23146210212582083\n",
      "Epoch: 7, Batch: 5000, Avg. Loss: 0.2430912839508528\n",
      "Epoch: 7, Batch: 6000, Avg. Loss: 0.24601879206540797\n",
      "Epoch: 8, Batch: 1000, Avg. Loss: 0.22323782898842182\n",
      "Epoch: 8, Batch: 2000, Avg. Loss: 0.2182514525804909\n",
      "Epoch: 8, Batch: 3000, Avg. Loss: 0.22937342614177625\n",
      "Epoch: 8, Batch: 4000, Avg. Loss: 0.21690391747376817\n",
      "Epoch: 8, Batch: 5000, Avg. Loss: 0.23859928148089785\n",
      "Epoch: 8, Batch: 6000, Avg. Loss: 0.2199085314308175\n",
      "Epoch: 9, Batch: 1000, Avg. Loss: 0.2002972819355855\n",
      "Epoch: 9, Batch: 2000, Avg. Loss: 0.21728983685778802\n",
      "Epoch: 9, Batch: 3000, Avg. Loss: 0.20002359130133118\n",
      "Epoch: 9, Batch: 4000, Avg. Loss: 0.20773286285132053\n",
      "Epoch: 9, Batch: 5000, Avg. Loss: 0.21951513640316261\n",
      "Epoch: 9, Batch: 6000, Avg. Loss: 0.2152801863982968\n",
      "Epoch: 10, Batch: 1000, Avg. Loss: 0.1915852187964665\n",
      "Epoch: 10, Batch: 2000, Avg. Loss: 0.20113133785534593\n",
      "Epoch: 10, Batch: 3000, Avg. Loss: 0.2000732835185481\n",
      "Epoch: 10, Batch: 4000, Avg. Loss: 0.20778025451788926\n",
      "Epoch: 10, Batch: 5000, Avg. Loss: 0.2127009596042044\n",
      "Epoch: 10, Batch: 6000, Avg. Loss: 0.1940310217248334\n",
      "Epoch: 11, Batch: 1000, Avg. Loss: 0.1798000275889244\n",
      "Epoch: 11, Batch: 2000, Avg. Loss: 0.19512619562730468\n",
      "Epoch: 11, Batch: 3000, Avg. Loss: 0.19102104405909995\n",
      "Epoch: 11, Batch: 4000, Avg. Loss: 0.19099435612930757\n",
      "Epoch: 11, Batch: 5000, Avg. Loss: 0.1966029296336137\n",
      "Epoch: 11, Batch: 6000, Avg. Loss: 0.208652528714636\n",
      "Epoch: 12, Batch: 1000, Avg. Loss: 0.1635897826829787\n",
      "Epoch: 12, Batch: 2000, Avg. Loss: 0.17735317192657532\n",
      "Epoch: 12, Batch: 3000, Avg. Loss: 0.18610363381149\n",
      "Epoch: 12, Batch: 4000, Avg. Loss: 0.17619481721812372\n",
      "Epoch: 12, Batch: 5000, Avg. Loss: 0.18431924735973337\n",
      "Epoch: 12, Batch: 6000, Avg. Loss: 0.20189055225009178\n",
      "Epoch: 13, Batch: 1000, Avg. Loss: 0.1700416814091077\n",
      "Epoch: 13, Batch: 2000, Avg. Loss: 0.16252325254564767\n",
      "Epoch: 13, Batch: 3000, Avg. Loss: 0.17833454032863527\n",
      "Epoch: 13, Batch: 4000, Avg. Loss: 0.1724485146892339\n",
      "Epoch: 13, Batch: 5000, Avg. Loss: 0.1910396809583479\n",
      "Epoch: 13, Batch: 6000, Avg. Loss: 0.17915085195343636\n",
      "Epoch: 14, Batch: 1000, Avg. Loss: 0.15916493132151663\n",
      "Epoch: 14, Batch: 2000, Avg. Loss: 0.16798016488465145\n",
      "Epoch: 14, Batch: 3000, Avg. Loss: 0.17108319938822933\n",
      "Epoch: 14, Batch: 4000, Avg. Loss: 0.17783849792144793\n",
      "Epoch: 14, Batch: 5000, Avg. Loss: 0.17141957124695115\n",
      "Epoch: 14, Batch: 6000, Avg. Loss: 0.19473097435240924\n",
      "Epoch: 15, Batch: 1000, Avg. Loss: 0.14426722068471645\n",
      "Epoch: 15, Batch: 2000, Avg. Loss: 0.15131266542263758\n",
      "Epoch: 15, Batch: 3000, Avg. Loss: 0.16883303094503344\n",
      "Epoch: 15, Batch: 4000, Avg. Loss: 0.17203974150119575\n",
      "Epoch: 15, Batch: 5000, Avg. Loss: 0.17256031484521356\n",
      "Epoch: 15, Batch: 6000, Avg. Loss: 0.1692556177671429\n",
      "Epoch: 16, Batch: 1000, Avg. Loss: 0.14863981624899317\n",
      "Epoch: 16, Batch: 2000, Avg. Loss: 0.15565033047775045\n",
      "Epoch: 16, Batch: 3000, Avg. Loss: 0.15888854097435773\n",
      "Epoch: 16, Batch: 4000, Avg. Loss: 0.16731617925066092\n",
      "Epoch: 16, Batch: 5000, Avg. Loss: 0.16818559798591604\n",
      "Epoch: 16, Batch: 6000, Avg. Loss: 0.15048447507754917\n",
      "Epoch: 17, Batch: 1000, Avg. Loss: 0.15046301451992167\n",
      "Epoch: 17, Batch: 2000, Avg. Loss: 0.1542229991803747\n",
      "Epoch: 17, Batch: 3000, Avg. Loss: 0.16322886229900224\n",
      "Epoch: 17, Batch: 4000, Avg. Loss: 0.14833455518392794\n",
      "Epoch: 17, Batch: 5000, Avg. Loss: 0.16234875377820027\n",
      "Epoch: 17, Batch: 6000, Avg. Loss: 0.1561632855889162\n",
      "Epoch: 18, Batch: 1000, Avg. Loss: 0.14283774815021832\n",
      "Epoch: 18, Batch: 2000, Avg. Loss: 0.14941943177912753\n",
      "Epoch: 18, Batch: 3000, Avg. Loss: 0.14553804213377453\n",
      "Epoch: 18, Batch: 4000, Avg. Loss: 0.149917665430979\n",
      "Epoch: 18, Batch: 5000, Avg. Loss: 0.15412100612385074\n",
      "Epoch: 18, Batch: 6000, Avg. Loss: 0.15667015137515045\n",
      "Epoch: 19, Batch: 1000, Avg. Loss: 0.1460939574539725\n",
      "Epoch: 19, Batch: 2000, Avg. Loss: 0.12889090870373454\n",
      "Epoch: 19, Batch: 3000, Avg. Loss: 0.1347666632882357\n",
      "Epoch: 19, Batch: 4000, Avg. Loss: 0.14679905409569338\n",
      "Epoch: 19, Batch: 5000, Avg. Loss: 0.1378537549268654\n",
      "Epoch: 19, Batch: 6000, Avg. Loss: 0.15108723289521267\n",
      "Epoch: 20, Batch: 1000, Avg. Loss: 0.13044837049373267\n",
      "Epoch: 20, Batch: 2000, Avg. Loss: 0.1227269829832446\n",
      "Epoch: 20, Batch: 3000, Avg. Loss: 0.1499386227148499\n",
      "Epoch: 20, Batch: 4000, Avg. Loss: 0.14523558886473825\n",
      "Epoch: 20, Batch: 5000, Avg. Loss: 0.14035685625694005\n",
      "Epoch: 20, Batch: 6000, Avg. Loss: 0.14532071938721747\n",
      "Finished Training\n"
     ]
    }
   ],
   "source": [
    "# define the number of epochs to train for\n",
    "n_epochs = 20 # start small to see if your model works, initially\n",
    "\n",
    "# call train\n",
    "train(n_epochs)"
   ]
  },
  {
   "cell_type": "markdown",
   "metadata": {},
   "source": [
    "### Test the Trained Network\n",
    "\n",
    "Once you are satisfied with how the loss of your model has decreased, there is one last step: test!\n",
    "\n",
    "You must test your trained model on a previously unseen dataset to see if it generalizes well and can accurately classify this new dataset. For FashionMNIST, which contains many pre-processed training images, a good model should reach **greater than 85% accuracy** on this test dataset. If you are not reaching this value, try training for a larger number of epochs, tweaking your hyperparameters, or adding/subtracting layers from your CNN."
   ]
  },
  {
   "cell_type": "code",
   "execution_count": 23,
   "metadata": {},
   "outputs": [
    {
     "name": "stdout",
     "output_type": "stream",
     "text": [
      "Test Loss: 0.399656\n",
      "\n",
      "Test Accuracy of T-shirt/top: 83% (832/1000)\n",
      "Test Accuracy of Trouser: 98% (982/1000)\n",
      "Test Accuracy of Pullover: 87% (871/1000)\n",
      "Test Accuracy of Dress: 92% (922/1000)\n",
      "Test Accuracy of  Coat: 86% (861/1000)\n",
      "Test Accuracy of Sandal: 98% (980/1000)\n",
      "Test Accuracy of Shirt: 76% (761/1000)\n",
      "Test Accuracy of Sneaker: 97% (972/1000)\n",
      "Test Accuracy of   Bag: 97% (978/1000)\n",
      "Test Accuracy of Ankle boot: 96% (967/1000)\n",
      "\n",
      "Test Accuracy (Overall): 91% (9126/10000)\n"
     ]
    }
   ],
   "source": [
    "# initialize tensor and lists to monitor test loss and accuracy\n",
    "test_loss = torch.zeros(1)\n",
    "class_correct = list(0. for i in range(10))\n",
    "class_total = list(0. for i in range(10))\n",
    "\n",
    "# set the module to evaluation mode\n",
    "net.eval()\n",
    "\n",
    "for batch_i, data in enumerate(test_loader):\n",
    "    \n",
    "    # get the input images and their corresponding labels\n",
    "    inputs, labels = data\n",
    "    \n",
    "    # forward pass to get outputs\n",
    "    outputs = net(inputs.to(device))\n",
    "\n",
    "    # calculate the loss\n",
    "    loss = criterion(outputs, labels.to(device))\n",
    "            \n",
    "    # update average test loss \n",
    "    test_loss = test_loss + ((torch.ones(1) / (batch_i + 1)) * (loss.data - test_loss))\n",
    "    \n",
    "    # get the predicted class from the maximum value in the output-list of class scores\n",
    "    _, predicted = torch.max(outputs.data, 1)\n",
    "    \n",
    "    # compare predictions to true label\n",
    "    correct = np.squeeze(predicted.eq(labels.to(device).data.view_as(predicted.to(device))))\n",
    "    \n",
    "    # calculate test accuracy for *each* object class\n",
    "    # we get the scalar value of correct items for a class, by calling `correct[i].item()`\n",
    "    for i in range(batch_size):\n",
    "        label = labels.data[i]\n",
    "        class_correct[label] += correct[i].item()\n",
    "        class_total[label] += 1\n",
    "\n",
    "print('Test Loss: {:.6f}\\n'.format(test_loss.numpy()[0]))\n",
    "\n",
    "for i in range(10):\n",
    "    if class_total[i] > 0:\n",
    "        print('Test Accuracy of %5s: %2d%% (%2d/%2d)' % (\n",
    "            classes[i], 100 * class_correct[i] / class_total[i],\n",
    "            np.sum(class_correct[i]), np.sum(class_total[i])))\n",
    "    else:\n",
    "        print('Test Accuracy of %5s: N/A (no training examples)' % (classes[i]))\n",
    "\n",
    "        \n",
    "print('\\nTest Accuracy (Overall): %2d%% (%2d/%2d)' % (\n",
    "    100. * np.sum(class_correct) / np.sum(class_total),\n",
    "    np.sum(class_correct), np.sum(class_total)))"
   ]
  },
  {
   "cell_type": "markdown",
   "metadata": {},
   "source": [
    "### Visualize sample test results"
   ]
  },
  {
   "cell_type": "code",
   "execution_count": 45,
   "metadata": {},
   "outputs": [
    {
     "ename": "RuntimeError",
     "evalue": "Expected object of backend CUDA but got backend CPU for argument #2 'other'",
     "output_type": "error",
     "traceback": [
      "\u001b[0;31m---------------------------------------------------------------------------\u001b[0m",
      "\u001b[0;31mRuntimeError\u001b[0m                              Traceback (most recent call last)",
      "\u001b[0;32m<ipython-input-45-e73fd12b762a>\u001b[0m in \u001b[0;36m<module>\u001b[0;34m\u001b[0m\n\u001b[1;32m     13\u001b[0m     \u001b[0max\u001b[0m\u001b[0;34m.\u001b[0m\u001b[0mimshow\u001b[0m\u001b[0;34m(\u001b[0m\u001b[0mnp\u001b[0m\u001b[0;34m.\u001b[0m\u001b[0msqueeze\u001b[0m\u001b[0;34m(\u001b[0m\u001b[0mimages\u001b[0m\u001b[0;34m[\u001b[0m\u001b[0midx\u001b[0m\u001b[0;34m]\u001b[0m\u001b[0;34m)\u001b[0m\u001b[0;34m,\u001b[0m \u001b[0mcmap\u001b[0m\u001b[0;34m=\u001b[0m\u001b[0;34m'gray'\u001b[0m\u001b[0;34m)\u001b[0m\u001b[0;34m\u001b[0m\u001b[0;34m\u001b[0m\u001b[0m\n\u001b[1;32m     14\u001b[0m     ax.set_title(\"{} ({})\".format(classes[preds.to(device)[idx]], classes[labels.to(device)[idx]]),\n\u001b[0;32m---> 15\u001b[0;31m                  color=(\"green\" if preds[idx]==labels[idx] else \"red\"))\n\u001b[0m",
      "\u001b[0;31mRuntimeError\u001b[0m: Expected object of backend CUDA but got backend CPU for argument #2 'other'"
     ]
    },
    {
     "data": {
      "image/png": "[encoded data removed]",
      "text/plain": [
       "<Figure size 1800x288 with 1 Axes>"
      ]
     },
     "metadata": {},
     "output_type": "display_data"
    }
   ],
   "source": [
    "# obtain one batch of test images\n",
    "dataiter = iter(test_loader)\n",
    "images, labels = dataiter.next()\n",
    "# get predictions\n",
    "out = net(images.to(device))\n",
    "preds = np.squeeze(out.data.max(1, keepdim=True)[1])\n",
    "images = images.numpy()\n",
    "\n",
    "# plot the images in the batch, along with predicted and true labels\n",
    "fig = plt.figure(figsize=(25, 4))\n",
    "for idx in np.arange(batch_size):\n",
    "    ax = fig.add_subplot(2, batch_size/2, idx+1, xticks=[], yticks=[])\n",
    "    ax.imshow(np.squeeze(images[idx]), cmap='gray')\n",
    "    ax.set_title(\"{} ({})\".format(classes[preds.to(device)[idx]], classes[labels.to(device)[idx]]),\n",
    "                 color=(\"green\" if preds[idx]==labels[idx] else \"red\"))"
   ]
  },
  {
   "cell_type": "markdown",
   "metadata": {},
   "source": [
    "### Question: What are some weaknesses of your model? (And how might you improve these in future iterations.)"
   ]
  },
  {
   "cell_type": "markdown",
   "metadata": {},
   "source": [
    "**Answer**: Double-click and write answer, here."
   ]
  },
  {
   "cell_type": "markdown",
   "metadata": {
    "collapsed": true
   },
   "source": [
    "### Save Your Best Model\n",
    "\n",
    "Once you've decided on a network architecture and are satisfied with the test accuracy of your model after training, it's time to save this so that you can refer back to this model, and use it at a later data for comparison of for another classification task!"
   ]
  },
  {
   "cell_type": "code",
   "execution_count": null,
   "metadata": {},
   "outputs": [],
   "source": [
    "## change the model_name to something uniqe for any new model\n",
    "## you wish to save, this will save it in the saved_models directory\n",
    "model_dir = 'saved_models/'\n",
    "model_name = 'model_91.pt'\n",
    "\n",
    "# after training, save your model parameters in the dir 'saved_models'\n",
    "# when you're ready, un-comment the line below\n",
    "torch.save(net.state_dict(), model_dir+model_name)"
   ]
  },
  {
   "cell_type": "markdown",
   "metadata": {},
   "source": [
    "### Load a Trained, Saved Model\n",
    "\n",
    "To instantiate a trained model, you'll first instantiate a new `Net()` and then initialize it with a saved dictionary of parameters (from the save step above)."
   ]
  },
  {
   "cell_type": "code",
   "execution_count": null,
   "metadata": {},
   "outputs": [],
   "source": [
    "# instantiate your Net\n",
    "# this refers to your Net class defined above\n",
    "net = Net()\n",
    "\n",
    "# load the net parameters by name\n",
    "# uncomment and write the name of a saved model\n",
    "#net.load_state_dict(torch.load('saved_models/model_1.pt'))\n",
    "\n",
    "print(net)\n",
    "\n",
    "# Once you've loaded a specific model in, you can then \n",
    "# us it or further analyze it! \n",
    "# This will be especialy useful for feature visualization "
   ]
  },
  {
   "cell_type": "code",
   "execution_count": null,
   "metadata": {},
   "outputs": [],
   "source": []
  }
 ],
 "metadata": {
  "anaconda-cloud": {},
  "kernelspec": {
   "display_name": "computer_vision_class",
   "language": "python",
   "name": "comp_vis"
  },
  "language_info": {
   "codemirror_mode": {
    "name": "ipython",
    "version": 3
   },
   "file_extension": ".py",
   "mimetype": "text/x-python",
   "name": "python",
   "nbconvert_exporter": "python",
   "pygments_lexer": "ipython3",
   "version": "3.6.9"
  },
  "widgets": {
   "state": {},
   "version": "1.1.2"
  }
 },
 "nbformat": 4,
 "nbformat_minor": 2
}
