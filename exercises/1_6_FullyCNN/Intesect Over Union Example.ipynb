{
 "cells": [
  {
   "cell_type": "markdown",
   "metadata": {},
   "source": [
    "# Motivation\n",
    "consider an image semantic segmentation problem in which the end output classified every single pixel. our goal is to measure performance using IOU"
   ]
  },
  {
   "cell_type": "markdown",
   "metadata": {},
   "source": [
    "![slide1](./images/snap_IOU_1.png)\n",
    "![slide2](./images/snap_IOU_2.png)\n",
    "[link to the paper](https://video.udacity-data.com/topher/2018/May/5b10875e_fcn8-paper/fcn8-paper.pdf)"
   ]
  }
 ],
 "metadata": {
  "kernelspec": {
   "display_name": "computer_vision_class",
   "language": "python",
   "name": "comp_vis"
  },
  "language_info": {
   "codemirror_mode": {
    "name": "ipython",
    "version": 3
   },
   "file_extension": ".py",
   "mimetype": "text/x-python",
   "name": "python",
   "nbconvert_exporter": "python",
   "pygments_lexer": "ipython3",
   "version": "3.6.9"
  }
 },
 "nbformat": 4,
 "nbformat_minor": 2
}
