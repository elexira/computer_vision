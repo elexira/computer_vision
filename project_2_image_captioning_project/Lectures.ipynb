{
 "cells": [
  {
   "cell_type": "markdown",
   "metadata": {},
   "source": [
    "# Image and Video Captioning Model Structures"
   ]
  },
  {
   "cell_type": "markdown",
   "metadata": {},
   "source": [
    "### image encoder is a CNN and the decoder is an RNN\n",
    "![](./images/snap_lecture_structure1.png)\n",
    "### Trasnfer learning applied to the CNN model, we only train the final layer\n",
    "![](./images/snap_lecture_structure2.png)\n",
    "### Same technology applied to video streams, several frames from a video are passed through CNN, the Feature map from the frames are averaged then to create a single output representation of the frames. The rest is same as image captioning\n",
    "![](./images/snap_lecture_structure3.png)"
   ]
  }
 ],
 "metadata": {
  "kernelspec": {
   "display_name": "computer_vision_class",
   "language": "python",
   "name": "comp_vis"
  },
  "language_info": {
   "codemirror_mode": {
    "name": "ipython",
    "version": 3
   },
   "file_extension": ".py",
   "mimetype": "text/x-python",
   "name": "python",
   "nbconvert_exporter": "python",
   "pygments_lexer": "ipython3",
   "version": "3.6.9"
  }
 },
 "nbformat": 4,
 "nbformat_minor": 2
}
